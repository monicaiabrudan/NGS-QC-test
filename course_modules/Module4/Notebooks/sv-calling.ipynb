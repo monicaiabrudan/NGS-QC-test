{
 "cells": [
  {
   "cell_type": "markdown",
   "metadata": {},
   "source": [
    "# Calling Structural Variants\n",
    "\n",
    "There are several software tools available for calling structural variants. We will use two callers in this part of the tutorial, `breakdancer` and `lumpy`\n",
    "\n",
    "## Breakdancer\n",
    "\n",
    "BreakDancer predicts five types of structural variants: insertions (INS), deletions (DEL), inversions (INV), inter-chromosomal translocations (CTX) and intra-chromosomal translocations (ITX) from next-generation short paired-end sequencing reads using read pairs that are mapped with unexpected separation distances or orientation.\n",
    "\n",
    "Navigate to the `exercise2` directory:"
   ]
  },
  {
   "cell_type": "code",
   "execution_count": null,
   "metadata": {},
   "outputs": [],
   "source": [
    "cd ../exercise2"
   ]
  },
  {
   "cell_type": "code",
   "execution_count": null,
   "metadata": {},
   "outputs": [],
   "source": [
    "ls"
   ]
  },
  {
   "cell_type": "markdown",
   "metadata": {},
   "source": [
    "We will use the Breakdancer software package to call structural variants on a yeast sample that was paired-end sequenced on the illumina HiSeq 2000. Breakdancer first needs to examine the BAM file to get information on the fragment size distribution for each sequencing library contained in the BAM file.\n",
    "\n",
    "The breakdancer.config file has information about the sequencing library fragment size distribution. Use the `cat` command to print the contents of the `breakdancer.config` file."
   ]
  },
  {
   "cell_type": "code",
   "execution_count": null,
   "metadata": {},
   "outputs": [],
   "source": []
  },
  {
   "cell_type": "markdown",
   "metadata": {},
   "source": [
    "__Q What is the mean and standard deviation of the fragment size?__\n",
    "\n",
    "Run the breakdancer SV caller using the command:"
   ]
  },
  {
   "cell_type": "code",
   "execution_count": null,
   "metadata": {},
   "outputs": [],
   "source": [
    "breakdancer-max breakdancer.config > ERR1015121.breakdancer.out"
   ]
  },
  {
   "cell_type": "markdown",
   "metadata": {},
   "source": [
    "Look at the output of Breakdancer."
   ]
  },
  {
   "cell_type": "code",
   "execution_count": null,
   "metadata": {},
   "outputs": [],
   "source": [
    "head ERR1015121.breakdancer.out"
   ]
  },
  {
   "cell_type": "markdown",
   "metadata": {},
   "source": [
    "Note that the output from Breakdancer is NOT VCF format, instead it is a simple text format with one line per SV event. \n",
    "\n",
    "### Exercises\n",
    "\n",
    "1. What type of SV event is predicted at position III:83065? \n",
    "\n",
    "2. What is the size of this SV?\n",
    "\n",
    "3. What is the score of this SV?\n",
    "\n",
    "4. What type of SV event is predicted at position II:258766?\n",
    "\n",
    "5. Convert the output of breakdancer into BED format"
   ]
  },
  {
   "cell_type": "markdown",
   "metadata": {},
   "source": [
    "The BED format is explained here: [https://genome.ucsc.edu/FAQ/FAQformat.html#format1](https://genome.ucsc.edu/FAQ/FAQformat.html#format1)\n",
    "\n",
    "To complete this task, create a command that:\n",
    "1. Extracts all the deletions from the breakdancer.out file (**Hint:** use grep) \n",
    "2. Prints columns: 1, 2, 5, 7, and 9 to create a BED file with columns: chromosome, start, end, name, and score. (**Hint:** use awk to do this, e.g. `awk '{print $1\"\\t\"$2}'`)\n",
    "3. Print the resulting bed output into a file called: breakdancer.dels.bed"
   ]
  },
  {
   "cell_type": "markdown",
   "metadata": {},
   "source": [
    "## Inspecting SVs with IGV\n",
    "\n",
    "Now we will open the IGV genome browser and inspect some of the predicted structural variants. \n",
    "\n",
    "To do this type:"
   ]
  },
  {
   "cell_type": "code",
   "execution_count": null,
   "metadata": {},
   "outputs": [],
   "source": [
    "igv"
   ]
  },
  {
   "cell_type": "markdown",
   "metadata": {},
   "source": [
    "Open the reference genome. **Go to ' _Genomes -> Load Genome From Server…_ ' and select \"S. cerevisiae (SacCer3)\".** \n",
    "\n",
    "Load the BAM file. **Go to ' _File -> Load from File…_ '. Select the \"ERR1015121.bam\" BAM file and click ' _Open_ '.**\n",
    "\n",
    "Load the BED file for the deletion calls that you created in the exercise 5 above. **Go to ' _File -> Load from File…_ '. Select the \"breakdancer.dels.bed\" BED file and click ' _Open_ '.**\n",
    "\n",
    "### Exercises\n",
    "\n",
    "Using the navigation bar, go to region II:258,500-266,700.\n",
    "\n",
    "1. Can you see the structural variant? What type of structural variant is it? (**Hint:** you may need to zoom out a little to see the full structural variant).\n",
    "\n",
    "2. Can you see any evidence to support this SV call?\n",
    "\n",
    "3. Can you estimate the size of the SV?\n",
    "\n",
    "The VCF in the `exercise1` directory was produced by another structural variant caller on the same sample as this exercise. \n",
    "\n",
    "4. Load the `exercise1/ERR1015121.vcf` VCF into IGV also (File - Load from file, and select `ERR1015121.vcf` in the exercise 1 directory).\n",
    "\n",
    "5. Was the structural variant at II:258766 also called by the other structural variant software (lumpy)? If so, what was the predicted size?\n",
    "\n",
    "Using the navigation bar, go to to region II:508,064-511,840. \n",
    "\n",
    "6. Is there a SV deletion called in this region by either SV caller? \n",
    "\n",
    "7. Is there any read support for a SV deletion in this region? If so, how many read pairs could support the deletion call (**Hint:** change the IGV view to `squished` and `View as pairs` to see any inconsistently aligned read pairs)."
   ]
  },
  {
   "cell_type": "markdown",
   "metadata": {},
   "source": [
    "## Dysgu\n",
    "\n",
    "We will use the Dysgu (pronounced duss-key) software package (https://github.com/kcleal/dysgu) to call structural variants on a yeast sample that was paired-end sequenced on the Illumina Hiseq 2000. Dysgu is designed to take BAM files that have been aligned with `BWA-mem`.\n",
    "\n",
    "Navigate to the `exercise 3` directory:"
   ]
  },
  {
   "cell_type": "code",
   "execution_count": null,
   "metadata": {},
   "outputs": [],
   "source": [
    "cd ../exercise3"
   ]
  },
  {
   "cell_type": "code",
   "execution_count": null,
   "metadata": {},
   "outputs": [],
   "source": [
    "ls"
   ]
  },
  {
   "cell_type": "markdown",
   "metadata": {},
   "source": [
    "Check that there is a BAM file called `ERR1015069.bam` and an index file `ERR1015069.bam.bai` in the directory. The sequence data has already been mapped with `bwa mem` and the results are stored in `ERR1015069.bam`.\n",
    "\n",
    "To call SVs, a sorted and indexed .bam/cram is needed plus an indexed reference genome (fasta format). Also a working directory must be provided to store temporary files."
   ]
  },
  {
   "cell_type": "code",
   "execution_count": null,
   "metadata": {},
   "outputs": [],
   "source": [
    "dysgu run ../ref/Saccharomyces_cerevisiae.R64-1-1.dna.toplevel.fa temp ERR1015069.bam > ERR1015069.vcf"
   ]
  },
  {
   "cell_type": "markdown",
   "metadata": {},
   "source": [
    "Dysgu is a multi-stage pipeline\n",
    "* The first stage of the \"run\" pipeline is to separate SV-associated reads - split/discordant reads, and reads with a soft-clip >= clip_length (15 bp by default).\n",
    "* The next stage of the pipeline is to call and genotype SVs using the reads from the first stage. \n",
    "The run command above combines both of these stages together."
   ]
  },
  {
   "cell_type": "markdown",
   "metadata": {},
   "source": [
    "### Exercises\n",
    "\n",
    "1. What was the total number of SVs identified? How many PASS SVs were identified by Dysgu? Why did the rest of the SVs fail?\n",
    "\n",
    "3. What type of SV event occurs at position IV:384221? What is the length of the SV event? What is the genotype quality?\n",
    "\n",
    "3. What type of SV event occurs at position XV:31115? What is the length of the SV event? What is the probability of the structural variant?"
   ]
  },
  {
   "cell_type": "markdown",
   "metadata": {},
   "source": [
    "Congratulations, you have sucessfully called structural variants from some NGS data. Now continue to the next section of the tutorial: [Calling structural variants from long reads](long-reads.ipynb)"
   ]
  }
 ],
 "metadata": {
  "kernelspec": {
   "display_name": "Python 3 (ipykernel)",
   "language": "python",
   "name": "python3"
  },
  "language_info": {
   "codemirror_mode": {
    "name": "ipython",
    "version": 3
   },
   "file_extension": ".py",
   "mimetype": "text/x-python",
   "name": "python",
   "nbconvert_exporter": "python",
   "pygments_lexer": "ipython3",
   "version": "3.10.6"
  }
 },
 "nbformat": 4,
 "nbformat_minor": 2
}

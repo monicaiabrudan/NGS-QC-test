{
 "cells": [
  {
   "cell_type": "markdown",
   "metadata": {},
   "source": [
    "# Structural Variation Calling\n",
    "\n",
    "## Introduction\n",
    "Structural variants (SVs) are large genomic alterations of at least 50 bp or larger in size. There are several types of SVs, including deletions, duplications, insertions, inversions, and translocations which describe different combinations of DNA gains, losses, or rearrangements. Copy number variations (CNVs) are a particular subtype of SV mainly represented by deletions and duplications. SVs are typically described as single events, although more complex scenarios involving combinations of SV types exist."
   ]
  },
  {
   "cell_type": "markdown",
   "metadata": {},
   "source": [
    "## Learning outcomes\n",
    "On completion of the tutorial, you can expect to be able to:\n",
    "\n",
    "* Call structural variants using standard tools \n",
    "* Visualise structural variants using standard tools\n",
    "* Call structural variants from long read data\n",
    "* Use bedtools to do regional comparisons over genomic co-ordinates\n",
    "\n",
    "## Tutorial sections\n",
    "This tutorial comprises the following sections: \n",
    " 1. [Looking at structural variants in VCF](vcfs.ipynb)\n",
    " 2. [Calling structural variants](sv-calling.ipynb)  \n",
    " 3. [Structural variants from long reads](long-reads.ipynb)   \n",
    " 4. [Bedtools](bedtools.ipynb)   \n",
    "\n",
    "## Authors\n",
    "This tutorial was written by [Jacqui Keane](https://github.com/jacquikeane) based on material from [Thomas Keane](https://github.com/tk2).\n",
    "\n",
    "## Running the commands in this tutorial\n",
    "You can follow this tutorial by typing all the commands you see into a terminal window. This is similar to the \"Command Prompt\" window on MS Windows systems, which allows the user to type DOS commands to manage files.\n",
    "\n",
    "To get started, open a new terminal window and type the command below:"
   ]
  },
  {
   "cell_type": "code",
   "execution_count": null,
   "metadata": {},
   "outputs": [],
   "source": [
    "cd /home/manager/course_data/structural_variation/data"
   ]
  },
  {
   "cell_type": "markdown",
   "metadata": {},
   "source": [
    "## Let’s get started!\n",
    "This tutorial requires that you have breakdancer, lumpy, minimap2, sniffles, bedtools and igv installed on your computer. These are already installed on the virtual machine you are using. To check that these are installed, run the following commands:"
   ]
  },
  {
   "cell_type": "code",
   "execution_count": null,
   "metadata": {},
   "outputs": [],
   "source": [
    "breakdancer-max -h"
   ]
  },
  {
   "cell_type": "code",
   "execution_count": null,
   "metadata": {},
   "outputs": [],
   "source": [
    "dysgu --help"
   ]
  },
  {
   "cell_type": "code",
   "execution_count": null,
   "metadata": {},
   "outputs": [],
   "source": [
    "minimap2 --help"
   ]
  },
  {
   "cell_type": "code",
   "execution_count": null,
   "metadata": {},
   "outputs": [],
   "source": [
    "sniffles --help"
   ]
  },
  {
   "cell_type": "code",
   "execution_count": null,
   "metadata": {},
   "outputs": [],
   "source": [
    "bedtools --help"
   ]
  },
  {
   "cell_type": "markdown",
   "metadata": {},
   "source": [
    "This should return the help message for software breakdancer, dysgu, minimap2, sniffles and bedtools respectively.\n",
    "\n",
    "If after this course you would like to download and install this software the instructions can be found at the links below, alternatively we recommend [bioconda](https://bioconda.github.io/) for the installation and management of your bioinformatics software.\n",
    "\n",
    "* The [breakdancer website](http://breakdancer.sourceforge.net/)\n",
    "* The [dysgu github page](https://github.com/kcleal/dysgu)\n",
    "* The [minimap2 website](https://lh3.github.io/minimap2/)\n",
    "* The [sniffles website](https://github.com/fritzsedlazeck/Sniffles/wiki)\n",
    "* The [bedtools website](https://bedtools.readthedocs.io/)\n",
    "\n",
    "To get started with the tutorial, go to the first section: [Looking at structural variants in VCF](vcfs.ipynb)"
   ]
  }
 ],
 "metadata": {
  "kernelspec": {
   "display_name": "Bash",
   "language": "bash",
   "name": "bash"
  },
  "language_info": {
   "codemirror_mode": "shell",
   "file_extension": ".sh",
   "mimetype": "text/x-sh",
   "name": "bash"
  }
 },
 "nbformat": 4,
 "nbformat_minor": 2
}
